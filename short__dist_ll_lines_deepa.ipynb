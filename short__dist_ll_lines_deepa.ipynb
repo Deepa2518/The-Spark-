{
  "nbformat": 4,
  "nbformat_minor": 0,
  "metadata": {
    "colab": {
      "name": "short _dist_ll_lines_deepa.ipynb",
      "provenance": [],
      "collapsed_sections": [],
      "mount_file_id": "13zljJBwnD7_BxOvM11PeafbmQ0W4SBca",
      "authorship_tag": "ABX9TyOTchQrYu0Da6Q5jHnDTRAG",
      "include_colab_link": true
    },
    "kernelspec": {
      "name": "python3",
      "display_name": "Python 3"
    }
  },
  "cells": [
    {
      "cell_type": "markdown",
      "metadata": {
        "id": "view-in-github",
        "colab_type": "text"
      },
      "source": [
        "<a href=\"https://colab.research.google.com/github/Deepa2518/The_Spark/blob/main/short__dist_ll_lines_deepa.ipynb\" target=\"_parent\"><img src=\"https://colab.research.google.com/assets/colab-badge.svg\" alt=\"Open In Colab\"/></a>"
      ]
    },
    {
      "cell_type": "code",
      "metadata": {
        "colab": {
          "base_uri": "https://localhost:8080/"
        },
        "id": "TqTvTCrjv7Fl",
        "outputId": "7f11460a-e23e-48e8-c353-dcbbc75a2105"
      },
      "source": [
        "from google.colab import drive\r\n",
        "drive.mount('/gdrive')"
      ],
      "execution_count": null,
      "outputs": [
        {
          "output_type": "stream",
          "text": [
            "Mounted at /gdrive\n"
          ],
          "name": "stdout"
        }
      ]
    },
    {
      "cell_type": "code",
      "metadata": {
        "id": "m_Y5Iz-foBXs"
      },
      "source": [
        ""
      ],
      "execution_count": null,
      "outputs": []
    },
    {
      "cell_type": "markdown",
      "metadata": {
        "id": "W2RaLbfVoYjw"
      },
      "source": [
        "DEEPA Ghag"
      ]
    },
    {
      "cell_type": "markdown",
      "metadata": {
        "id": "ooSgQO7-oCFP"
      },
      "source": [
        "Shortest distance between two lines\r\n",
        "\r\n",
        "Distance between Two Parallel Lines - The distance is the perpendicular distance from any point on one line to the other line.\r\n",
        "\r\n",
        "Formula to find distance between two parallel line:\r\n",
        "\r\n",
        "Consider two parallel lines are represented in the following form :\r\n",
        "\r\n",
        "y = mx + c1 …(i)\r\n",
        "\r\n",
        "y = mx + c2 ….(ii)\r\n",
        "\r\n",
        "Where m = slope of line\r\n",
        "\r\n",
        "Then, the formula for shortest distance can be written as under : image.png​\r\n",
        "\r\n",
        "If the equations of two parallel lines are expressed in the following way :\r\n",
        "\r\n",
        "ax + by + d1 = 0\r\n",
        "\r\n",
        "ax + by + d2 = 0\r\n",
        "\r\n",
        "then there is a little change in the formula.\r\n",
        "\r\n",
        "How to find Distance between Two Lines\r\n",
        "\r\n",
        "Remark: The perpendicular distance between parallel lines is always a constant, so we can pick any point to measure the distance"
      ]
    },
    {
      "cell_type": "code",
      "metadata": {
        "id": "ze1P0lmAwEH0"
      },
      "source": [
        "import pandas as pd\r\n",
        "import math\r\n",
        "import random\r\n"
      ],
      "execution_count": 4,
      "outputs": []
    },
    {
      "cell_type": "code",
      "metadata": {
        "id": "nhuIgIyTzw7O"
      },
      "source": [
        "X1=[]\r\n",
        "Y1=[]\r\n",
        "M1=[]\r\n",
        "X2=[]\r\n",
        "Y2=[]\r\n",
        "M2=[] \r\n",
        "for i in range(0,100):\r\n",
        "    X1.append(round(random.uniform(1,9),2))\r\n",
        "    Y1.append(round(random.uniform(1,9),2))\r\n",
        "    M1.append(round(random.uniform(1,9),2))\r\n",
        "    X2.append(round(random.uniform(1,9),2))\r\n",
        "    Y2.append(round(random.uniform(1,9),2))\r\n",
        "    M2.append(round(random.uniform(1,9),2))\r\n",
        "    \r\n",
        "\r\n",
        "Distance=[]\r\n",
        "for n in range (0,100):\r\n",
        "    d1=((X1[n])+(Y1[n])+(M1[n]))/math.sqrt((abs(X1[n])**2)+(abs(Y1[n])**2))\r\n",
        "    d2=((X2[n])+(Y2[n])+(M2[n]))/math.sqrt((abs(X2[n])**2)+(abs(Y2[n])**2))\r\n",
        "    Distance.append(round(abs((d1)-(d2)),2))\r\n",
        "\r\n",
        "Data = pd.DataFrame()\r\n",
        "Data['X1'] = X1\r\n",
        "Data['Y1'] = Y1\r\n",
        "Data['M1'] = M1\r\n",
        "Data['X2'] = X2\r\n",
        "Data['Y2'] = Y2\r\n",
        "Data['M2'] = M2\r\n",
        "Data['Distance']= Distance"
      ],
      "execution_count": 5,
      "outputs": []
    },
    {
      "cell_type": "code",
      "metadata": {
        "id": "UeF4s80k0Dia"
      },
      "source": [
        "Data.to_csv('Shortest_dist.csv',index=False) "
      ],
      "execution_count": 6,
      "outputs": []
    },
    {
      "cell_type": "code",
      "metadata": {
        "colab": {
          "base_uri": "https://localhost:8080/",
          "height": 415
        },
        "id": "j_Tr1B4z1b8F",
        "outputId": "c392b033-3779-4888-f7c3-ba7ff06acfed"
      },
      "source": [
        "import pandas as pd\r\n",
        "df=pd.read_csv(\"Shortest_dist.csv\")\r\n",
        "df"
      ],
      "execution_count": 7,
      "outputs": [
        {
          "output_type": "execute_result",
          "data": {
            "text/html": [
              "<div>\n",
              "<style scoped>\n",
              "    .dataframe tbody tr th:only-of-type {\n",
              "        vertical-align: middle;\n",
              "    }\n",
              "\n",
              "    .dataframe tbody tr th {\n",
              "        vertical-align: top;\n",
              "    }\n",
              "\n",
              "    .dataframe thead th {\n",
              "        text-align: right;\n",
              "    }\n",
              "</style>\n",
              "<table border=\"1\" class=\"dataframe\">\n",
              "  <thead>\n",
              "    <tr style=\"text-align: right;\">\n",
              "      <th></th>\n",
              "      <th>X1</th>\n",
              "      <th>Y1</th>\n",
              "      <th>M1</th>\n",
              "      <th>X2</th>\n",
              "      <th>Y2</th>\n",
              "      <th>M2</th>\n",
              "      <th>Distance</th>\n",
              "    </tr>\n",
              "  </thead>\n",
              "  <tbody>\n",
              "    <tr>\n",
              "      <th>0</th>\n",
              "      <td>6.17</td>\n",
              "      <td>8.21</td>\n",
              "      <td>8.95</td>\n",
              "      <td>4.29</td>\n",
              "      <td>5.31</td>\n",
              "      <td>7.49</td>\n",
              "      <td>0.23</td>\n",
              "    </tr>\n",
              "    <tr>\n",
              "      <th>1</th>\n",
              "      <td>2.83</td>\n",
              "      <td>6.67</td>\n",
              "      <td>7.19</td>\n",
              "      <td>6.28</td>\n",
              "      <td>5.64</td>\n",
              "      <td>6.77</td>\n",
              "      <td>0.09</td>\n",
              "    </tr>\n",
              "    <tr>\n",
              "      <th>2</th>\n",
              "      <td>8.84</td>\n",
              "      <td>2.23</td>\n",
              "      <td>5.83</td>\n",
              "      <td>7.36</td>\n",
              "      <td>6.91</td>\n",
              "      <td>6.11</td>\n",
              "      <td>0.17</td>\n",
              "    </tr>\n",
              "    <tr>\n",
              "      <th>3</th>\n",
              "      <td>8.58</td>\n",
              "      <td>5.54</td>\n",
              "      <td>2.82</td>\n",
              "      <td>2.09</td>\n",
              "      <td>2.21</td>\n",
              "      <td>8.99</td>\n",
              "      <td>2.71</td>\n",
              "    </tr>\n",
              "    <tr>\n",
              "      <th>4</th>\n",
              "      <td>4.22</td>\n",
              "      <td>3.04</td>\n",
              "      <td>3.17</td>\n",
              "      <td>7.03</td>\n",
              "      <td>8.16</td>\n",
              "      <td>2.51</td>\n",
              "      <td>0.36</td>\n",
              "    </tr>\n",
              "    <tr>\n",
              "      <th>...</th>\n",
              "      <td>...</td>\n",
              "      <td>...</td>\n",
              "      <td>...</td>\n",
              "      <td>...</td>\n",
              "      <td>...</td>\n",
              "      <td>...</td>\n",
              "      <td>...</td>\n",
              "    </tr>\n",
              "    <tr>\n",
              "      <th>95</th>\n",
              "      <td>8.84</td>\n",
              "      <td>2.10</td>\n",
              "      <td>5.51</td>\n",
              "      <td>1.10</td>\n",
              "      <td>3.05</td>\n",
              "      <td>2.01</td>\n",
              "      <td>0.09</td>\n",
              "    </tr>\n",
              "    <tr>\n",
              "      <th>96</th>\n",
              "      <td>5.35</td>\n",
              "      <td>6.25</td>\n",
              "      <td>6.11</td>\n",
              "      <td>7.31</td>\n",
              "      <td>3.51</td>\n",
              "      <td>8.77</td>\n",
              "      <td>0.26</td>\n",
              "    </tr>\n",
              "    <tr>\n",
              "      <th>97</th>\n",
              "      <td>5.07</td>\n",
              "      <td>3.44</td>\n",
              "      <td>4.19</td>\n",
              "      <td>3.17</td>\n",
              "      <td>8.18</td>\n",
              "      <td>6.01</td>\n",
              "      <td>0.09</td>\n",
              "    </tr>\n",
              "    <tr>\n",
              "      <th>98</th>\n",
              "      <td>4.07</td>\n",
              "      <td>3.05</td>\n",
              "      <td>7.83</td>\n",
              "      <td>6.93</td>\n",
              "      <td>8.91</td>\n",
              "      <td>4.62</td>\n",
              "      <td>1.13</td>\n",
              "    </tr>\n",
              "    <tr>\n",
              "      <th>99</th>\n",
              "      <td>1.51</td>\n",
              "      <td>2.81</td>\n",
              "      <td>6.99</td>\n",
              "      <td>8.52</td>\n",
              "      <td>5.91</td>\n",
              "      <td>2.27</td>\n",
              "      <td>1.93</td>\n",
              "    </tr>\n",
              "  </tbody>\n",
              "</table>\n",
              "<p>100 rows × 7 columns</p>\n",
              "</div>"
            ],
            "text/plain": [
              "      X1    Y1    M1    X2    Y2    M2  Distance\n",
              "0   6.17  8.21  8.95  4.29  5.31  7.49      0.23\n",
              "1   2.83  6.67  7.19  6.28  5.64  6.77      0.09\n",
              "2   8.84  2.23  5.83  7.36  6.91  6.11      0.17\n",
              "3   8.58  5.54  2.82  2.09  2.21  8.99      2.71\n",
              "4   4.22  3.04  3.17  7.03  8.16  2.51      0.36\n",
              "..   ...   ...   ...   ...   ...   ...       ...\n",
              "95  8.84  2.10  5.51  1.10  3.05  2.01      0.09\n",
              "96  5.35  6.25  6.11  7.31  3.51  8.77      0.26\n",
              "97  5.07  3.44  4.19  3.17  8.18  6.01      0.09\n",
              "98  4.07  3.05  7.83  6.93  8.91  4.62      1.13\n",
              "99  1.51  2.81  6.99  8.52  5.91  2.27      1.93\n",
              "\n",
              "[100 rows x 7 columns]"
            ]
          },
          "metadata": {
            "tags": []
          },
          "execution_count": 7
        }
      ]
    },
    {
      "cell_type": "code",
      "metadata": {
        "id": "1WdxdZVe1irb"
      },
      "source": [
        "X = df[['X1','Y1','M1','X2','Y2','M2']]\r\n",
        "y = df['Distance']"
      ],
      "execution_count": 8,
      "outputs": []
    },
    {
      "cell_type": "code",
      "metadata": {
        "id": "qkf1A_Fs1zYX"
      },
      "source": [
        "from sklearn.model_selection import train_test_split\r\n",
        "X_train, X_test, y_train, y_test = train_test_split(X, y, test_size=0.20, random_state=0)"
      ],
      "execution_count": 9,
      "outputs": []
    },
    {
      "cell_type": "code",
      "metadata": {
        "id": "kifxxpIH2GMz"
      },
      "source": [
        "from keras.models  import Sequential\r\n",
        "from keras.layers import Input, Dense, Flatten, Dropout, BatchNormalization\r\n",
        "from keras.optimizers import Adam, SGD, RMSprop"
      ],
      "execution_count": 10,
      "outputs": []
    },
    {
      "cell_type": "code",
      "metadata": {
        "id": "FG8_2HiP2YQ9"
      },
      "source": [
        "ANN_MODEL = Sequential([\r\n",
        "    Dense(6, input_shape=(6,), activation=\"relu\"),\r\n",
        "    Dense(1,activation='linear')\r\n",
        "])"
      ],
      "execution_count": 11,
      "outputs": []
    },
    {
      "cell_type": "code",
      "metadata": {
        "colab": {
          "base_uri": "https://localhost:8080/"
        },
        "id": "cprUMHwV2cfw",
        "outputId": "1618e2c4-a92a-4ce8-9ee1-fd4f21d4cf14"
      },
      "source": [
        "ANN_MODEL.summary()"
      ],
      "execution_count": 12,
      "outputs": [
        {
          "output_type": "stream",
          "text": [
            "Model: \"sequential\"\n",
            "_________________________________________________________________\n",
            "Layer (type)                 Output Shape              Param #   \n",
            "=================================================================\n",
            "dense (Dense)                (None, 6)                 42        \n",
            "_________________________________________________________________\n",
            "dense_1 (Dense)              (None, 1)                 7         \n",
            "=================================================================\n",
            "Total params: 49\n",
            "Trainable params: 49\n",
            "Non-trainable params: 0\n",
            "_________________________________________________________________\n"
          ],
          "name": "stdout"
        }
      ]
    },
    {
      "cell_type": "code",
      "metadata": {
        "colab": {
          "base_uri": "https://localhost:8080/"
        },
        "id": "D4kqp5lU2hKr",
        "outputId": "800eacdc-6e57-42d1-bde2-439b1560a9cc"
      },
      "source": [
        "ANN_MODEL.compile(loss='mean_squared_error', optimizer='adam')\r\n",
        "model_1 = ANN_MODEL.fit(X_train, y_train, validation_data=(X_test, y_test), epochs=80)"
      ],
      "execution_count": 13,
      "outputs": [
        {
          "output_type": "stream",
          "text": [
            "Epoch 1/80\n",
            "3/3 [==============================] - 1s 189ms/step - loss: 16.1099 - val_loss: 14.1704\n",
            "Epoch 2/80\n",
            "3/3 [==============================] - 0s 23ms/step - loss: 15.6116 - val_loss: 13.4398\n",
            "Epoch 3/80\n",
            "3/3 [==============================] - 0s 20ms/step - loss: 15.5365 - val_loss: 12.7181\n",
            "Epoch 4/80\n",
            "3/3 [==============================] - 0s 21ms/step - loss: 14.5313 - val_loss: 12.0082\n",
            "Epoch 5/80\n",
            "3/3 [==============================] - 0s 20ms/step - loss: 12.6659 - val_loss: 11.3198\n",
            "Epoch 6/80\n",
            "3/3 [==============================] - 0s 23ms/step - loss: 12.8671 - val_loss: 10.6392\n",
            "Epoch 7/80\n",
            "3/3 [==============================] - 0s 21ms/step - loss: 11.6870 - val_loss: 9.9939\n",
            "Epoch 8/80\n",
            "3/3 [==============================] - 0s 21ms/step - loss: 11.3054 - val_loss: 9.3675\n",
            "Epoch 9/80\n",
            "3/3 [==============================] - 0s 96ms/step - loss: 10.4871 - val_loss: 8.7821\n",
            "Epoch 10/80\n",
            "3/3 [==============================] - 0s 21ms/step - loss: 9.7796 - val_loss: 8.2317\n",
            "Epoch 11/80\n",
            "3/3 [==============================] - 0s 24ms/step - loss: 9.3028 - val_loss: 7.6965\n",
            "Epoch 12/80\n",
            "3/3 [==============================] - 0s 23ms/step - loss: 9.1971 - val_loss: 7.1829\n",
            "Epoch 13/80\n",
            "3/3 [==============================] - 0s 22ms/step - loss: 8.8872 - val_loss: 6.7021\n",
            "Epoch 14/80\n",
            "3/3 [==============================] - 0s 25ms/step - loss: 7.9780 - val_loss: 6.2538\n",
            "Epoch 15/80\n",
            "3/3 [==============================] - 0s 22ms/step - loss: 7.7111 - val_loss: 5.8330\n",
            "Epoch 16/80\n",
            "3/3 [==============================] - 0s 22ms/step - loss: 6.7930 - val_loss: 5.4433\n",
            "Epoch 17/80\n",
            "3/3 [==============================] - 0s 21ms/step - loss: 6.7354 - val_loss: 5.0774\n",
            "Epoch 18/80\n",
            "3/3 [==============================] - 0s 22ms/step - loss: 6.2863 - val_loss: 4.7330\n",
            "Epoch 19/80\n",
            "3/3 [==============================] - 0s 24ms/step - loss: 6.3451 - val_loss: 4.4087\n",
            "Epoch 20/80\n",
            "3/3 [==============================] - 0s 21ms/step - loss: 6.1872 - val_loss: 4.1041\n",
            "Epoch 21/80\n",
            "3/3 [==============================] - 0s 20ms/step - loss: 5.2481 - val_loss: 3.8290\n",
            "Epoch 22/80\n",
            "3/3 [==============================] - 0s 20ms/step - loss: 4.9966 - val_loss: 3.5750\n",
            "Epoch 23/80\n",
            "3/3 [==============================] - 0s 20ms/step - loss: 4.8905 - val_loss: 3.3436\n",
            "Epoch 24/80\n",
            "3/3 [==============================] - 0s 20ms/step - loss: 4.5264 - val_loss: 3.1364\n",
            "Epoch 25/80\n",
            "3/3 [==============================] - 0s 21ms/step - loss: 3.8062 - val_loss: 2.9528\n",
            "Epoch 26/80\n",
            "3/3 [==============================] - 0s 21ms/step - loss: 3.4919 - val_loss: 2.7818\n",
            "Epoch 27/80\n",
            "3/3 [==============================] - 0s 21ms/step - loss: 3.6262 - val_loss: 2.6092\n",
            "Epoch 28/80\n",
            "3/3 [==============================] - 0s 20ms/step - loss: 3.1908 - val_loss: 2.4542\n",
            "Epoch 29/80\n",
            "3/3 [==============================] - 0s 22ms/step - loss: 3.3645 - val_loss: 2.3085\n",
            "Epoch 30/80\n",
            "3/3 [==============================] - 0s 19ms/step - loss: 3.3059 - val_loss: 2.1807\n",
            "Epoch 31/80\n",
            "3/3 [==============================] - 0s 23ms/step - loss: 3.2685 - val_loss: 2.0711\n",
            "Epoch 32/80\n",
            "3/3 [==============================] - 0s 20ms/step - loss: 2.7708 - val_loss: 1.9772\n",
            "Epoch 33/80\n",
            "3/3 [==============================] - 0s 20ms/step - loss: 2.6536 - val_loss: 1.8906\n",
            "Epoch 34/80\n",
            "3/3 [==============================] - 0s 21ms/step - loss: 2.6175 - val_loss: 1.8134\n",
            "Epoch 35/80\n",
            "3/3 [==============================] - 0s 22ms/step - loss: 2.4487 - val_loss: 1.7479\n",
            "Epoch 36/80\n",
            "3/3 [==============================] - 0s 21ms/step - loss: 2.4448 - val_loss: 1.6937\n",
            "Epoch 37/80\n",
            "3/3 [==============================] - 0s 22ms/step - loss: 2.1958 - val_loss: 1.6450\n",
            "Epoch 38/80\n",
            "3/3 [==============================] - 0s 22ms/step - loss: 2.0793 - val_loss: 1.5991\n",
            "Epoch 39/80\n",
            "3/3 [==============================] - 0s 22ms/step - loss: 2.0017 - val_loss: 1.5577\n",
            "Epoch 40/80\n",
            "3/3 [==============================] - 0s 23ms/step - loss: 2.4407 - val_loss: 1.5228\n",
            "Epoch 41/80\n",
            "3/3 [==============================] - 0s 20ms/step - loss: 1.8615 - val_loss: 1.4890\n",
            "Epoch 42/80\n",
            "3/3 [==============================] - 0s 20ms/step - loss: 1.9484 - val_loss: 1.4573\n",
            "Epoch 43/80\n",
            "3/3 [==============================] - 0s 21ms/step - loss: 1.9864 - val_loss: 1.4296\n",
            "Epoch 44/80\n",
            "3/3 [==============================] - 0s 21ms/step - loss: 1.9570 - val_loss: 1.4023\n",
            "Epoch 45/80\n",
            "3/3 [==============================] - 0s 27ms/step - loss: 1.9374 - val_loss: 1.3798\n",
            "Epoch 46/80\n",
            "3/3 [==============================] - 0s 23ms/step - loss: 1.8909 - val_loss: 1.3581\n",
            "Epoch 47/80\n",
            "3/3 [==============================] - 0s 21ms/step - loss: 1.8176 - val_loss: 1.3346\n",
            "Epoch 48/80\n",
            "3/3 [==============================] - 0s 20ms/step - loss: 1.7814 - val_loss: 1.3127\n",
            "Epoch 49/80\n",
            "3/3 [==============================] - 0s 20ms/step - loss: 1.8527 - val_loss: 1.2941\n",
            "Epoch 50/80\n",
            "3/3 [==============================] - 0s 22ms/step - loss: 1.7574 - val_loss: 1.2745\n",
            "Epoch 51/80\n",
            "3/3 [==============================] - 0s 22ms/step - loss: 1.6635 - val_loss: 1.2555\n",
            "Epoch 52/80\n",
            "3/3 [==============================] - 0s 23ms/step - loss: 1.9303 - val_loss: 1.2428\n",
            "Epoch 53/80\n",
            "3/3 [==============================] - 0s 25ms/step - loss: 1.7307 - val_loss: 1.2280\n",
            "Epoch 54/80\n",
            "3/3 [==============================] - 0s 23ms/step - loss: 1.5163 - val_loss: 1.2095\n",
            "Epoch 55/80\n",
            "3/3 [==============================] - 0s 21ms/step - loss: 1.4141 - val_loss: 1.1941\n",
            "Epoch 56/80\n",
            "3/3 [==============================] - 0s 21ms/step - loss: 1.5546 - val_loss: 1.1790\n",
            "Epoch 57/80\n",
            "3/3 [==============================] - 0s 20ms/step - loss: 1.6077 - val_loss: 1.1638\n",
            "Epoch 58/80\n",
            "3/3 [==============================] - 0s 22ms/step - loss: 1.4764 - val_loss: 1.1464\n",
            "Epoch 59/80\n",
            "3/3 [==============================] - 0s 23ms/step - loss: 1.7549 - val_loss: 1.1268\n",
            "Epoch 60/80\n",
            "3/3 [==============================] - 0s 24ms/step - loss: 1.6969 - val_loss: 1.1097\n",
            "Epoch 61/80\n",
            "3/3 [==============================] - 0s 98ms/step - loss: 1.5947 - val_loss: 1.0912\n",
            "Epoch 62/80\n",
            "3/3 [==============================] - 0s 22ms/step - loss: 1.4751 - val_loss: 1.0714\n",
            "Epoch 63/80\n",
            "3/3 [==============================] - 0s 25ms/step - loss: 1.5120 - val_loss: 1.0535\n",
            "Epoch 64/80\n",
            "3/3 [==============================] - 0s 28ms/step - loss: 1.5672 - val_loss: 1.0382\n",
            "Epoch 65/80\n",
            "3/3 [==============================] - 0s 27ms/step - loss: 1.6187 - val_loss: 1.0222\n",
            "Epoch 66/80\n",
            "3/3 [==============================] - 0s 22ms/step - loss: 1.5698 - val_loss: 1.0071\n",
            "Epoch 67/80\n",
            "3/3 [==============================] - 0s 22ms/step - loss: 1.6452 - val_loss: 0.9939\n",
            "Epoch 68/80\n",
            "3/3 [==============================] - 0s 23ms/step - loss: 1.4618 - val_loss: 0.9817\n",
            "Epoch 69/80\n",
            "3/3 [==============================] - 0s 22ms/step - loss: 1.5837 - val_loss: 0.9732\n",
            "Epoch 70/80\n",
            "3/3 [==============================] - 0s 24ms/step - loss: 1.3599 - val_loss: 0.9640\n",
            "Epoch 71/80\n",
            "3/3 [==============================] - 0s 24ms/step - loss: 1.5123 - val_loss: 0.9550\n",
            "Epoch 72/80\n",
            "3/3 [==============================] - 0s 22ms/step - loss: 1.2328 - val_loss: 0.9450\n",
            "Epoch 73/80\n",
            "3/3 [==============================] - 0s 22ms/step - loss: 1.4034 - val_loss: 0.9352\n",
            "Epoch 74/80\n",
            "3/3 [==============================] - 0s 22ms/step - loss: 1.3369 - val_loss: 0.9278\n",
            "Epoch 75/80\n",
            "3/3 [==============================] - 0s 21ms/step - loss: 1.5404 - val_loss: 0.9212\n",
            "Epoch 76/80\n",
            "3/3 [==============================] - 0s 26ms/step - loss: 1.3430 - val_loss: 0.9152\n",
            "Epoch 77/80\n",
            "3/3 [==============================] - 0s 22ms/step - loss: 1.4078 - val_loss: 0.9074\n",
            "Epoch 78/80\n",
            "3/3 [==============================] - 0s 26ms/step - loss: 1.4170 - val_loss: 0.9018\n",
            "Epoch 79/80\n",
            "3/3 [==============================] - 0s 23ms/step - loss: 1.1724 - val_loss: 0.8972\n",
            "Epoch 80/80\n",
            "3/3 [==============================] - 0s 24ms/step - loss: 1.2845 - val_loss: 0.8925\n"
          ],
          "name": "stdout"
        }
      ]
    },
    {
      "cell_type": "code",
      "metadata": {
        "id": "wrm7dYHX3LEw"
      },
      "source": [
        ""
      ],
      "execution_count": 13,
      "outputs": []
    }
  ]
}